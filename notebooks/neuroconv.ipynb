{
 "cells": [
  {
   "cell_type": "markdown",
   "id": "f52409c6",
   "metadata": {},
   "source": [
    "# NWB workshop\n",
    "## Converting to NWB with neuroconv\n",
    "We will deal with two problems that we think arise often.\n",
    "The first one is having a type of data that you would like\n",
    "to convert to an NWB file and the second you already have an\n",
    "NWB and some data you would like to add to the NWB file.\n",
    "\n",
    "## Prerequisites\n",
    "If you were running this on your own machine you would have\n",
    "to install jupyter, neuroconv package and the data.\n",
    "However for the workshop these steps are baked in\n",
    "the provided notebooks so you don't need to anything.\n",
    "\n",
    "## Problem 1:\n",
    "We will start with the simplest case scenario. The data that we have\n",
    "is from a csv file. "
   ]
  },
  {
   "cell_type": "code",
   "execution_count": 1,
   "id": "4c1163d0",
   "metadata": {},
   "outputs": [
    {
     "name": "stderr",
     "output_type": "stream",
     "text": [
      "/home/apitsill/ephemera/nwb_workshops/lib/python3.11/site-packages/tqdm/auto.py:21: TqdmWarning: IProgress not found. Please update jupyter and ipywidgets. See https://ipywidgets.readthedocs.io/en/stable/user_install.html\n",
      "  from .autonotebook import tqdm as notebook_tqdm\n"
     ]
    }
   ],
   "source": [
    "from neuroconv.datainterfaces import CsvTimeIntervalsInterface\n",
    "from zoneinfo import ZoneInfo\n",
    "from pathlib import Path\n",
    "from datetime import datetime"
   ]
  },
  {
   "cell_type": "code",
   "execution_count": 2,
   "id": "a91caaa7",
   "metadata": {},
   "outputs": [],
   "source": [
    "import random\n",
    "import pandas as pd"
   ]
  },
  {
   "cell_type": "code",
   "execution_count": 3,
   "id": "e91454c4",
   "metadata": {},
   "outputs": [],
   "source": [
    "n = 100\n",
    "starts  = [-1]*n\n",
    "ends  = [-1]*n\n",
    "vals = [-1]*n\n",
    "s0 = 0\n",
    "for i in range(n):\n",
    "    starts[i]= s0 + random.randrange(5)\n",
    "    ends[i] = starts[i] + random.randrange(1,50)\n",
    "    vals[i] = random.uniform(0,1)\n",
    "    s0 = ends[i]\n",
    "    \n",
    "\n",
    "pd.DataFrame({'start_time':starts, 'end_time':ends, 'value':vals }).to_csv(\"mydata.csv\",index=False)"
   ]
  },
  {
   "cell_type": "code",
   "execution_count": 4,
   "id": "cc721eb6",
   "metadata": {},
   "outputs": [],
   "source": [
    "csv_file_path = \"mydata.csv\"\n",
    "nwb_file_path = \"csv_file.nwb\"\n",
    "interface = CsvTimeIntervalsInterface(file_path=csv_file_path, verbose=False)"
   ]
  },
  {
   "cell_type": "code",
   "execution_count": 5,
   "id": "b8130140",
   "metadata": {},
   "outputs": [
    {
     "data": {
      "text/plain": [
       "DeepDict: {'NWBFile': {'session_description': '', 'identifier': '7929d8c8-25ed-4df5-84e7-3d3d60216283', 'source_script': 'Created using NeuroConv v0.6.6', 'source_script_file_name': '/home/apitsill/ephemera/nwb_workshops/lib/python3.11/site-packages/neuroconv/basedatainterface.py'}, 'TimeIntervals': {'trials': {'table_name': 'trials', 'table_description': 'experimental trials generated from mydata.csv'}}}"
      ]
     },
     "execution_count": 5,
     "metadata": {},
     "output_type": "execute_result"
    }
   ],
   "source": [
    "metadata = interface.get_metadata()\n",
    "session_start_time = datetime(2025,1,10,11,45,0, tzinfo=ZoneInfo(\"Europe/Paris\"))\n",
    "metadata"
   ]
  },
  {
   "cell_type": "code",
   "execution_count": 6,
   "id": "8730f4ff",
   "metadata": {},
   "outputs": [
    {
     "ename": "ValidationError",
     "evalue": "'session_start_time' is a required property\n\nFailed validating 'required' in schema['properties']['NWBFile']:\n    {'type': 'object',\n     'additionalProperties': False,\n     'required': ['session_start_time'],\n     'properties': {'keywords': {'description': 'Terms to search over',\n                                 'type': 'array',\n                                 'items': {'title': 'keyword',\n                                           'type': 'string'}},\n                    'experiment_description': {'type': 'string',\n                                               'description': 'general '\n                                                              'description '\n                                                              'of the '\n                                                              'experiment'},\n                    'session_id': {'type': 'string',\n                                   'description': 'lab-specific ID for the '\n                                                  'session'},\n                    'experimenter': {'description': 'Name of person/people '\n                                                    'who performed '\n                                                    'experiment',\n                                     'type': 'array',\n                                     'items': {'type': 'string',\n                                               'title': 'experimenter'}},\n                    'identifier': {'type': 'string',\n                                   'description': 'A unique text '\n                                                  'identifier for the '\n                                                  'file. If one is not '\n                                                  'provided it will be '\n                                                  'randomly assigned'},\n                    'institution': {'type': 'string',\n                                    'description': 'Institution(s) where '\n                                                   'experiment is '\n                                                   'performed'},\n                    'lab': {'type': 'string',\n                            'description': 'Lab where experiment was '\n                                           'performed'},\n                    'session_description': {'type': 'string',\n                                            'description': 'A description '\n                                                           'of the session '\n                                                           'where this '\n                                                           'data was '\n                                                           'generated'},\n                    'session_start_time': {'type': 'string',\n                                           'format': 'date-time',\n                                           'description': 'The start date '\n                                                          'and time of the '\n                                                          'recording '\n                                                          'session'},\n                    'surgery': {'type': 'string',\n                                'description': 'Narrative description '\n                                               'about surgery/surgeries, '\n                                               'including date(s) and who '\n                                               'performed surgery.'},\n                    'pharmacology': {'type': 'string',\n                                     'description': 'Description of drugs '\n                                                    'used, including how '\n                                                    'and when they were '\n                                                    'administered. '\n                                                    'Anesthesia(s), '\n                                                    'painkiller(s), etc., '\n                                                    'plus dosage, '\n                                                    'concentration, etc.'},\n                    'protocol': {'type': 'string',\n                                 'description': 'Experimental protocol, if '\n                                                'applicable. E.g., include '\n                                                'IACUC protocol'},\n                    'related_publications': {'type': 'array',\n                                             'items': {'title': 'related '\n                                                                'publication',\n                                                       'type': 'string'}},\n                    'slices': {'type': 'string',\n                               'description': 'Description of slices, '\n                                              'including information about '\n                                              'preparation thickness, '\n                                              'orientation, temperature '\n                                              'and bath solution.'},\n                    'source_script': {'type': 'string',\n                                      'description': 'Script file used to '\n                                                     'create this NWB '\n                                                     'file.'},\n                    'source_script_file_name': {'type': 'string',\n                                                'description': 'Script '\n                                                               'file used '\n                                                               'to create '\n                                                               'this NWB '\n                                                               'file.'},\n                    'notes': {'type': 'string',\n                              'description': 'Notes about the experiment.'},\n                    'virus': {'type': 'string',\n                              'description': 'Information about virus(es) '\n                                             'used in experiments, '\n                                             'including virus ID, source, '\n                                             'date made, injection '\n                                             'location, volume, etc.'},\n                    'data_collection': {'type': 'string',\n                                        'description': 'Notes about data '\n                                                       'collection and '\n                                                       'analysis.'},\n                    'stimulus_notes': {'type': 'string',\n                                       'description': 'Notes about '\n                                                      'stimuli, such as '\n                                                      'how and where '\n                                                      'presented.'}}}\n\nOn instance['NWBFile']:\n    {'session_description': '',\n     'identifier': '7929d8c8-25ed-4df5-84e7-3d3d60216283',\n     'source_script': 'Created using NeuroConv v0.6.6',\n     'source_script_file_name': '/home/apitsill/ephemera/nwb_workshops/lib/python3.11/site-packages/neuroconv/basedatainterface.py'}",
     "output_type": "error",
     "traceback": [
      "\u001b[0;31m---------------------------------------------------------------------------\u001b[0m",
      "\u001b[0;31mValidationError\u001b[0m                           Traceback (most recent call last)",
      "Cell \u001b[0;32mIn[6], line 1\u001b[0m\n\u001b[0;32m----> 1\u001b[0m \u001b[43minterface\u001b[49m\u001b[38;5;241;43m.\u001b[39;49m\u001b[43mrun_conversion\u001b[49m\u001b[43m(\u001b[49m\u001b[43mnwbfile_path\u001b[49m\u001b[43m \u001b[49m\u001b[38;5;241;43m=\u001b[39;49m\u001b[43m \u001b[49m\u001b[43mnwb_file_path\u001b[49m\u001b[43m,\u001b[49m\u001b[43m \u001b[49m\u001b[43mmetadata\u001b[49m\u001b[38;5;241;43m=\u001b[39;49m\u001b[43mmetadata\u001b[49m\u001b[43m)\u001b[49m\n",
      "File \u001b[0;32m~/ephemera/nwb_workshops/lib/python3.11/site-packages/neuroconv/basedatainterface.py:198\u001b[0m, in \u001b[0;36mBaseDataInterface.run_conversion\u001b[0;34m(self, nwbfile_path, nwbfile, metadata, overwrite, backend, backend_configuration, **conversion_options)\u001b[0m\n\u001b[1;32m    194\u001b[0m append_mode \u001b[38;5;241m=\u001b[39m file_initially_exists \u001b[38;5;129;01mand\u001b[39;00m \u001b[38;5;129;01mnot\u001b[39;00m overwrite\n\u001b[1;32m    196\u001b[0m \u001b[38;5;28mself\u001b[39m\u001b[38;5;241m.\u001b[39mvalidate_metadata(metadata\u001b[38;5;241m=\u001b[39mmetadata, append_mode\u001b[38;5;241m=\u001b[39mappend_mode)\n\u001b[0;32m--> 198\u001b[0m \u001b[43m\u001b[49m\u001b[38;5;28;43;01mwith\u001b[39;49;00m\u001b[43m \u001b[49m\u001b[43mmake_or_load_nwbfile\u001b[49m\u001b[43m(\u001b[49m\n\u001b[1;32m    199\u001b[0m \u001b[43m    \u001b[49m\u001b[43mnwbfile_path\u001b[49m\u001b[38;5;241;43m=\u001b[39;49m\u001b[43mnwbfile_path\u001b[49m\u001b[43m,\u001b[49m\n\u001b[1;32m    200\u001b[0m \u001b[43m    \u001b[49m\u001b[43mnwbfile\u001b[49m\u001b[38;5;241;43m=\u001b[39;49m\u001b[43mnwbfile\u001b[49m\u001b[43m,\u001b[49m\n\u001b[1;32m    201\u001b[0m \u001b[43m    \u001b[49m\u001b[43mmetadata\u001b[49m\u001b[38;5;241;43m=\u001b[39;49m\u001b[43mmetadata\u001b[49m\u001b[43m,\u001b[49m\n\u001b[1;32m    202\u001b[0m \u001b[43m    \u001b[49m\u001b[43moverwrite\u001b[49m\u001b[38;5;241;43m=\u001b[39;49m\u001b[43moverwrite\u001b[49m\u001b[43m,\u001b[49m\n\u001b[1;32m    203\u001b[0m \u001b[43m    \u001b[49m\u001b[43mbackend\u001b[49m\u001b[38;5;241;43m=\u001b[39;49m\u001b[43mbackend\u001b[49m\u001b[43m,\u001b[49m\n\u001b[1;32m    204\u001b[0m \u001b[43m    \u001b[49m\u001b[43mverbose\u001b[49m\u001b[38;5;241;43m=\u001b[39;49m\u001b[38;5;28;43mgetattr\u001b[39;49m\u001b[43m(\u001b[49m\u001b[38;5;28;43mself\u001b[39;49m\u001b[43m,\u001b[49m\u001b[43m \u001b[49m\u001b[38;5;124;43m\"\u001b[39;49m\u001b[38;5;124;43mverbose\u001b[39;49m\u001b[38;5;124;43m\"\u001b[39;49m\u001b[43m,\u001b[49m\u001b[43m \u001b[49m\u001b[38;5;28;43;01mFalse\u001b[39;49;00m\u001b[43m)\u001b[49m\u001b[43m,\u001b[49m\n\u001b[1;32m    205\u001b[0m \u001b[43m\u001b[49m\u001b[43m)\u001b[49m\u001b[43m \u001b[49m\u001b[38;5;28;43;01mas\u001b[39;49;00m\u001b[43m \u001b[49m\u001b[43mnwbfile_out\u001b[49m\u001b[43m:\u001b[49m\n\u001b[1;32m    206\u001b[0m \u001b[43m    \u001b[49m\u001b[38;5;28;43;01mif\u001b[39;49;00m\u001b[43m \u001b[49m\u001b[43mno_nwbfile_provided\u001b[49m\u001b[43m:\u001b[49m\n\u001b[1;32m    207\u001b[0m \u001b[43m        \u001b[49m\u001b[38;5;28;43mself\u001b[39;49m\u001b[38;5;241;43m.\u001b[39;49m\u001b[43madd_to_nwbfile\u001b[49m\u001b[43m(\u001b[49m\u001b[43mnwbfile\u001b[49m\u001b[38;5;241;43m=\u001b[39;49m\u001b[43mnwbfile_out\u001b[49m\u001b[43m,\u001b[49m\u001b[43m \u001b[49m\u001b[43mmetadata\u001b[49m\u001b[38;5;241;43m=\u001b[39;49m\u001b[43mmetadata\u001b[49m\u001b[43m,\u001b[49m\u001b[43m \u001b[49m\u001b[38;5;241;43m*\u001b[39;49m\u001b[38;5;241;43m*\u001b[39;49m\u001b[43mconversion_options\u001b[49m\u001b[43m)\u001b[49m\n",
      "File \u001b[0;32m~/.asdf/installs/python/3.11.4/lib/python3.11/contextlib.py:137\u001b[0m, in \u001b[0;36m_GeneratorContextManager.__enter__\u001b[0;34m(self)\u001b[0m\n\u001b[1;32m    135\u001b[0m \u001b[38;5;28;01mdel\u001b[39;00m \u001b[38;5;28mself\u001b[39m\u001b[38;5;241m.\u001b[39margs, \u001b[38;5;28mself\u001b[39m\u001b[38;5;241m.\u001b[39mkwds, \u001b[38;5;28mself\u001b[39m\u001b[38;5;241m.\u001b[39mfunc\n\u001b[1;32m    136\u001b[0m \u001b[38;5;28;01mtry\u001b[39;00m:\n\u001b[0;32m--> 137\u001b[0m     \u001b[38;5;28;01mreturn\u001b[39;00m \u001b[38;5;28mnext\u001b[39m(\u001b[38;5;28mself\u001b[39m\u001b[38;5;241m.\u001b[39mgen)\n\u001b[1;32m    138\u001b[0m \u001b[38;5;28;01mexcept\u001b[39;00m \u001b[38;5;167;01mStopIteration\u001b[39;00m:\n\u001b[1;32m    139\u001b[0m     \u001b[38;5;28;01mraise\u001b[39;00m \u001b[38;5;167;01mRuntimeError\u001b[39;00m(\u001b[38;5;124m\"\u001b[39m\u001b[38;5;124mgenerator didn\u001b[39m\u001b[38;5;124m'\u001b[39m\u001b[38;5;124mt yield\u001b[39m\u001b[38;5;124m\"\u001b[39m) \u001b[38;5;28;01mfrom\u001b[39;00m\u001b[38;5;250m \u001b[39m\u001b[38;5;28;01mNone\u001b[39;00m\n",
      "File \u001b[0;32m~/ephemera/nwb_workshops/lib/python3.11/site-packages/neuroconv/tools/nwb_helpers/_metadata_and_file_helpers.py:264\u001b[0m, in \u001b[0;36mmake_or_load_nwbfile\u001b[0;34m(nwbfile_path, nwbfile, metadata, overwrite, backend, verbose)\u001b[0m\n\u001b[1;32m    262\u001b[0m \u001b[38;5;28;01mexcept\u001b[39;00m \u001b[38;5;167;01mException\u001b[39;00m \u001b[38;5;28;01mas\u001b[39;00m load_error:\n\u001b[1;32m    263\u001b[0m     nwbfile_loaded_succesfully \u001b[38;5;241m=\u001b[39m \u001b[38;5;28;01mFalse\u001b[39;00m\n\u001b[0;32m--> 264\u001b[0m     \u001b[38;5;28;01mraise\u001b[39;00m load_error\n\u001b[1;32m    265\u001b[0m \u001b[38;5;28;01mfinally\u001b[39;00m:\n\u001b[1;32m    266\u001b[0m     \u001b[38;5;28;01mif\u001b[39;00m nwbfile_path_is_provided \u001b[38;5;129;01mand\u001b[39;00m nwbfile_loaded_succesfully:\n",
      "File \u001b[0;32m~/ephemera/nwb_workshops/lib/python3.11/site-packages/neuroconv/tools/nwb_helpers/_metadata_and_file_helpers.py:259\u001b[0m, in \u001b[0;36mmake_or_load_nwbfile\u001b[0;34m(nwbfile_path, nwbfile, metadata, overwrite, backend, verbose)\u001b[0m\n\u001b[1;32m    256\u001b[0m         default_metadata \u001b[38;5;241m=\u001b[39m get_default_nwbfile_metadata()\n\u001b[1;32m    257\u001b[0m         default_metadata\u001b[38;5;241m.\u001b[39mdeep_update(metadata)\n\u001b[0;32m--> 259\u001b[0m         nwbfile \u001b[38;5;241m=\u001b[39m \u001b[43mmake_nwbfile_from_metadata\u001b[49m\u001b[43m(\u001b[49m\u001b[43mmetadata\u001b[49m\u001b[38;5;241;43m=\u001b[39;49m\u001b[43mmetadata\u001b[49m\u001b[43m)\u001b[49m\n\u001b[1;32m    261\u001b[0m     \u001b[38;5;28;01myield\u001b[39;00m nwbfile\n\u001b[1;32m    262\u001b[0m \u001b[38;5;28;01mexcept\u001b[39;00m \u001b[38;5;167;01mException\u001b[39;00m \u001b[38;5;28;01mas\u001b[39;00m load_error:\n",
      "File \u001b[0;32m~/ephemera/nwb_workshops/lib/python3.11/site-packages/neuroconv/tools/nwb_helpers/_metadata_and_file_helpers.py:70\u001b[0m, in \u001b[0;36mmake_nwbfile_from_metadata\u001b[0;34m(metadata)\u001b[0m\n\u001b[1;32m     68\u001b[0m base_metadata_schema \u001b[38;5;241m=\u001b[39m load_dict_from_file(file_path\u001b[38;5;241m=\u001b[39mschema_path)\n\u001b[1;32m     69\u001b[0m \u001b[38;5;28;01massert\u001b[39;00m metadata \u001b[38;5;129;01mis\u001b[39;00m \u001b[38;5;129;01mnot\u001b[39;00m \u001b[38;5;28;01mNone\u001b[39;00m, \u001b[38;5;124m\"\u001b[39m\u001b[38;5;124mMetadata is required to create an NWBFile but metadata=None was passed.\u001b[39m\u001b[38;5;124m\"\u001b[39m\n\u001b[0;32m---> 70\u001b[0m \u001b[43mvalidate_metadata\u001b[49m\u001b[43m(\u001b[49m\u001b[43mmetadata\u001b[49m\u001b[38;5;241;43m=\u001b[39;49m\u001b[43mmetadata\u001b[49m\u001b[43m,\u001b[49m\u001b[43m \u001b[49m\u001b[43mschema\u001b[49m\u001b[38;5;241;43m=\u001b[39;49m\u001b[43mbase_metadata_schema\u001b[49m\u001b[43m)\u001b[49m\n\u001b[1;32m     72\u001b[0m nwbfile_kwargs \u001b[38;5;241m=\u001b[39m deepcopy(metadata[\u001b[38;5;124m\"\u001b[39m\u001b[38;5;124mNWBFile\u001b[39m\u001b[38;5;124m\"\u001b[39m])\n\u001b[1;32m     73\u001b[0m \u001b[38;5;66;03m# convert ISO 8601 string to datetime\u001b[39;00m\n",
      "File \u001b[0;32m~/ephemera/nwb_workshops/lib/python3.11/site-packages/neuroconv/utils/json_schema.py:370\u001b[0m, in \u001b[0;36mvalidate_metadata\u001b[0;34m(metadata, schema, verbose)\u001b[0m\n\u001b[1;32m    368\u001b[0m serialized_metadata \u001b[38;5;241m=\u001b[39m encoder\u001b[38;5;241m.\u001b[39mencode(metadata)\n\u001b[1;32m    369\u001b[0m decoded_metadata \u001b[38;5;241m=\u001b[39m json\u001b[38;5;241m.\u001b[39mloads(serialized_metadata)\n\u001b[0;32m--> 370\u001b[0m \u001b[43mvalidate\u001b[49m\u001b[43m(\u001b[49m\u001b[43minstance\u001b[49m\u001b[38;5;241;43m=\u001b[39;49m\u001b[43mdecoded_metadata\u001b[49m\u001b[43m,\u001b[49m\u001b[43m \u001b[49m\u001b[43mschema\u001b[49m\u001b[38;5;241;43m=\u001b[39;49m\u001b[43mschema\u001b[49m\u001b[43m)\u001b[49m\n\u001b[1;32m    371\u001b[0m \u001b[38;5;28;01mif\u001b[39;00m verbose:\n\u001b[1;32m    372\u001b[0m     \u001b[38;5;28mprint\u001b[39m(\u001b[38;5;124m\"\u001b[39m\u001b[38;5;124mMetadata is valid!\u001b[39m\u001b[38;5;124m\"\u001b[39m)\n",
      "File \u001b[0;32m~/ephemera/nwb_workshops/lib/python3.11/site-packages/jsonschema/validators.py:1332\u001b[0m, in \u001b[0;36mvalidate\u001b[0;34m(instance, schema, cls, *args, **kwargs)\u001b[0m\n\u001b[1;32m   1330\u001b[0m error \u001b[38;5;241m=\u001b[39m exceptions\u001b[38;5;241m.\u001b[39mbest_match(validator\u001b[38;5;241m.\u001b[39miter_errors(instance))\n\u001b[1;32m   1331\u001b[0m \u001b[38;5;28;01mif\u001b[39;00m error \u001b[38;5;129;01mis\u001b[39;00m \u001b[38;5;129;01mnot\u001b[39;00m \u001b[38;5;28;01mNone\u001b[39;00m:\n\u001b[0;32m-> 1332\u001b[0m     \u001b[38;5;28;01mraise\u001b[39;00m error\n",
      "\u001b[0;31mValidationError\u001b[0m: 'session_start_time' is a required property\n\nFailed validating 'required' in schema['properties']['NWBFile']:\n    {'type': 'object',\n     'additionalProperties': False,\n     'required': ['session_start_time'],\n     'properties': {'keywords': {'description': 'Terms to search over',\n                                 'type': 'array',\n                                 'items': {'title': 'keyword',\n                                           'type': 'string'}},\n                    'experiment_description': {'type': 'string',\n                                               'description': 'general '\n                                                              'description '\n                                                              'of the '\n                                                              'experiment'},\n                    'session_id': {'type': 'string',\n                                   'description': 'lab-specific ID for the '\n                                                  'session'},\n                    'experimenter': {'description': 'Name of person/people '\n                                                    'who performed '\n                                                    'experiment',\n                                     'type': 'array',\n                                     'items': {'type': 'string',\n                                               'title': 'experimenter'}},\n                    'identifier': {'type': 'string',\n                                   'description': 'A unique text '\n                                                  'identifier for the '\n                                                  'file. If one is not '\n                                                  'provided it will be '\n                                                  'randomly assigned'},\n                    'institution': {'type': 'string',\n                                    'description': 'Institution(s) where '\n                                                   'experiment is '\n                                                   'performed'},\n                    'lab': {'type': 'string',\n                            'description': 'Lab where experiment was '\n                                           'performed'},\n                    'session_description': {'type': 'string',\n                                            'description': 'A description '\n                                                           'of the session '\n                                                           'where this '\n                                                           'data was '\n                                                           'generated'},\n                    'session_start_time': {'type': 'string',\n                                           'format': 'date-time',\n                                           'description': 'The start date '\n                                                          'and time of the '\n                                                          'recording '\n                                                          'session'},\n                    'surgery': {'type': 'string',\n                                'description': 'Narrative description '\n                                               'about surgery/surgeries, '\n                                               'including date(s) and who '\n                                               'performed surgery.'},\n                    'pharmacology': {'type': 'string',\n                                     'description': 'Description of drugs '\n                                                    'used, including how '\n                                                    'and when they were '\n                                                    'administered. '\n                                                    'Anesthesia(s), '\n                                                    'painkiller(s), etc., '\n                                                    'plus dosage, '\n                                                    'concentration, etc.'},\n                    'protocol': {'type': 'string',\n                                 'description': 'Experimental protocol, if '\n                                                'applicable. E.g., include '\n                                                'IACUC protocol'},\n                    'related_publications': {'type': 'array',\n                                             'items': {'title': 'related '\n                                                                'publication',\n                                                       'type': 'string'}},\n                    'slices': {'type': 'string',\n                               'description': 'Description of slices, '\n                                              'including information about '\n                                              'preparation thickness, '\n                                              'orientation, temperature '\n                                              'and bath solution.'},\n                    'source_script': {'type': 'string',\n                                      'description': 'Script file used to '\n                                                     'create this NWB '\n                                                     'file.'},\n                    'source_script_file_name': {'type': 'string',\n                                                'description': 'Script '\n                                                               'file used '\n                                                               'to create '\n                                                               'this NWB '\n                                                               'file.'},\n                    'notes': {'type': 'string',\n                              'description': 'Notes about the experiment.'},\n                    'virus': {'type': 'string',\n                              'description': 'Information about virus(es) '\n                                             'used in experiments, '\n                                             'including virus ID, source, '\n                                             'date made, injection '\n                                             'location, volume, etc.'},\n                    'data_collection': {'type': 'string',\n                                        'description': 'Notes about data '\n                                                       'collection and '\n                                                       'analysis.'},\n                    'stimulus_notes': {'type': 'string',\n                                       'description': 'Notes about '\n                                                      'stimuli, such as '\n                                                      'how and where '\n                                                      'presented.'}}}\n\nOn instance['NWBFile']:\n    {'session_description': '',\n     'identifier': '7929d8c8-25ed-4df5-84e7-3d3d60216283',\n     'source_script': 'Created using NeuroConv v0.6.6',\n     'source_script_file_name': '/home/apitsill/ephemera/nwb_workshops/lib/python3.11/site-packages/neuroconv/basedatainterface.py'}"
     ]
    }
   ],
   "source": [
    "interface.run_conversion(nwbfile_path = nwb_file_path, metadata=metadata)"
   ]
  },
  {
   "cell_type": "code",
   "execution_count": 7,
   "id": "ceac4983",
   "metadata": {},
   "outputs": [],
   "source": [
    "metadata[\"NWBFile\"][\"session_start_time\"] = session_start_time"
   ]
  },
  {
   "cell_type": "code",
   "execution_count": 8,
   "id": "9a227e66",
   "metadata": {},
   "outputs": [],
   "source": [
    "interface.run_conversion(nwbfile_path = nwb_file_path, metadata=metadata)"
   ]
  },
  {
   "cell_type": "code",
   "execution_count": 9,
   "id": "888c30d5",
   "metadata": {},
   "outputs": [],
   "source": [
    "from pynwb import NWBHDF5IO"
   ]
  },
  {
   "cell_type": "code",
   "execution_count": 10,
   "id": "1dcf5874",
   "metadata": {
    "scrolled": true
   },
   "outputs": [
    {
     "name": "stdout",
     "output_type": "stream",
     "text": [
      "root pynwb.file.NWBFile at 0x139990873764048\n",
      "Fields:\n",
      "  file_create_date: [datetime.datetime(2025, 1, 10, 12, 5, 10, 256411, tzinfo=tzoffset(None, 3600))]\n",
      "  identifier: 7929d8c8-25ed-4df5-84e7-3d3d60216283\n",
      "  intervals: {\n",
      "    trials <class 'pynwb.epoch.TimeIntervals'>\n",
      "  }\n",
      "  session_start_time: 2025-01-10 11:45:00+01:00\n",
      "  source_script: Created using NeuroConv v0.6.6\n",
      "  source_script_file_name: /home/apitsill/ephemera/nwb_workshops/lib/python3.11/site-packages/neuroconv/basedatainterface.py\n",
      "  timestamps_reference_time: 2025-01-10 11:45:00+01:00\n",
      "  trials: trials <class 'pynwb.epoch.TimeIntervals'>\n",
      "\n",
      "[ 3. 25. 74. 81. 97.]\n"
     ]
    }
   ],
   "source": [
    "with NWBHDF5IO(nwb_file_path, mode = 'r') as io:\n",
    "    nwbfile = io.read()\n",
    "    print(nwbfile)\n",
    "    starts = nwbfile.trials['start_time'].data\n",
    "    print(starts[0:5])"
   ]
  }
 ],
 "metadata": {
  "kernelspec": {
   "display_name": "nwb_workshops",
   "language": "python",
   "name": "nwb_workshops"
  },
  "language_info": {
   "codemirror_mode": {
    "name": "ipython",
    "version": 3
   },
   "file_extension": ".py",
   "mimetype": "text/x-python",
   "name": "python",
   "nbconvert_exporter": "python",
   "pygments_lexer": "ipython3",
   "version": "3.11.4"
  }
 },
 "nbformat": 4,
 "nbformat_minor": 5
}
