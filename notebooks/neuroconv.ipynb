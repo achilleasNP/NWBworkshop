{
 "cells": [
  {
   "cell_type": "markdown",
   "id": "f52409c6",
   "metadata": {},
   "source": [
    "# NWB workshop\n",
    "## Converting to NWB with neuroconv\n",
    "We will deal with two problems that we think arise often.\n",
    "The first one is having a type of data that you would like\n",
    "to convert to an NWB file and the second you already have an\n",
    "NWB and some data you would like to add to the NWB file.\n",
    "\n",
    "## Prerequisites\n",
    "If you were running this on your own machine you would have\n",
    "to install jupyter, neuroconv package and the data.\n",
    "However for the workshop these steps are baked in\n",
    "the provided notebooks so you don't need to anything.\n",
    "\n",
    "## Problem 1:\n",
    "We will start with the simplest case scenario. The data that we have\n",
    "is from a csv file. "
   ]
  },
  {
   "cell_type": "code",
   "execution_count": null,
   "id": "4c1163d0",
   "metadata": {},
   "outputs": [],
   "source": [
    "from neuroconv.datainterfaces import CsvTimeIntervalsInterface\n",
    "from zoneinfo import ZoneInfo\n",
    "from pathlib import Path\n",
    "from datetime import datetime"
   ]
  },
  {
   "cell_type": "markdown",
   "id": "491a6074",
   "metadata": {},
   "source": [
    "### Create CSV file if not available"
   ]
  },
  {
   "cell_type": "code",
   "execution_count": null,
   "id": "a91caaa7",
   "metadata": {},
   "outputs": [],
   "source": [
    "import random\n",
    "import pandas as pd\n",
    "data_dir = Path(\"../data\")\n",
    "data_dir.mkdir(exist_ok=True)\n",
    "csv_file_path = data_dir / \"mydata.csv\""
   ]
  },
  {
   "cell_type": "code",
   "execution_count": null,
   "id": "e91454c4",
   "metadata": {},
   "outputs": [],
   "source": [
    "if not csv_file_path.exists():\n",
    "    n = 100\n",
    "    starts  = [-1]*n\n",
    "    ends  = [-1]*n\n",
    "    vals = [-1]*n\n",
    "    s0 = 0\n",
    "    for i in range(n):\n",
    "        starts[i]= s0 + random.randrange(5)\n",
    "        ends[i] = starts[i] + random.randrange(1,50)\n",
    "        vals[i] = random.uniform(0,1)\n",
    "        s0 = ends[i]\n",
    "\n",
    "\n",
    "    pd.DataFrame({'start_time':starts, 'end_time':ends, 'value':vals }).to_csv(csv_file_path,index=False)"
   ]
  },
  {
   "cell_type": "markdown",
   "id": "2bb71c1b",
   "metadata": {},
   "source": [
    "### Create interface and get metadata"
   ]
  },
  {
   "cell_type": "code",
   "execution_count": null,
   "id": "cc721eb6",
   "metadata": {},
   "outputs": [],
   "source": [
    "interface = CsvTimeIntervalsInterface(file_path=csv_file_path, verbose=False)"
   ]
  },
  {
   "cell_type": "code",
   "execution_count": null,
   "id": "b8130140",
   "metadata": {},
   "outputs": [],
   "source": [
    "metadata = interface.get_metadata()\n",
    "metadata"
   ]
  },
  {
   "cell_type": "markdown",
   "id": "c837e6d6",
   "metadata": {},
   "source": [
    "### Attempt to write NWB file"
   ]
  },
  {
   "cell_type": "code",
   "execution_count": null,
   "id": "8730f4ff",
   "metadata": {},
   "outputs": [],
   "source": [
    "nwb_file_path = \"csv_file.nwb\"\n",
    "interface.run_conversion(nwbfile_path = nwb_file_path, metadata=metadata)"
   ]
  },
  {
   "cell_type": "markdown",
   "id": "03926ec9",
   "metadata": {},
   "source": [
    "### Add missing metadata"
   ]
  },
  {
   "cell_type": "code",
   "execution_count": null,
   "id": "ceac4983",
   "metadata": {},
   "outputs": [],
   "source": [
    "session_start_time = datetime(2025,1,10,11,45,0, tzinfo=ZoneInfo(\"Europe/Paris\"))\n",
    "metadata[\"NWBFile\"][\"session_start_time\"] = session_start_time"
   ]
  },
  {
   "cell_type": "markdown",
   "id": "c6e88b33",
   "metadata": {},
   "source": [
    "### Create NWB file"
   ]
  },
  {
   "cell_type": "code",
   "execution_count": null,
   "id": "9a227e66",
   "metadata": {},
   "outputs": [],
   "source": [
    "interface.run_conversion(nwbfile_path = nwb_file_path, metadata=metadata)"
   ]
  },
  {
   "cell_type": "markdown",
   "id": "35d317de",
   "metadata": {},
   "source": [
    "### Look at the generated NWB file"
   ]
  },
  {
   "cell_type": "code",
   "execution_count": null,
   "id": "888c30d5",
   "metadata": {},
   "outputs": [],
   "source": [
    "from pynwb import NWBHDF5IO"
   ]
  },
  {
   "cell_type": "code",
   "execution_count": null,
   "id": "1dcf5874",
   "metadata": {},
   "outputs": [],
   "source": [
    "with NWBHDF5IO(nwb_file_path, mode = 'r') as io:\n",
    "    nwbfile = io.read()\n",
    "    print(nwbfile)\n",
    "    starts = nwbfile.trials['start_time'].data\n",
    "    print(starts[0:5])"
   ]
  }
 ],
 "metadata": {
  "kernelspec": {
   "display_name": "nwb_workshops",
   "language": "python",
   "name": "nwb_workshops"
  },
  "language_info": {
   "codemirror_mode": {
    "name": "ipython",
    "version": 3
   },
   "file_extension": ".py",
   "mimetype": "text/x-python",
   "name": "python",
   "nbconvert_exporter": "python",
   "pygments_lexer": "ipython3",
   "version": "3.11.4"
  }
 },
 "nbformat": 4,
 "nbformat_minor": 5
}
