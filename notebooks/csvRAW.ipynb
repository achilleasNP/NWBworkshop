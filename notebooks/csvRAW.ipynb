{
 "cells": [
  {
   "cell_type": "code",
   "execution_count": null,
   "id": "ce148bcf",
   "metadata": {},
   "outputs": [],
   "source": [
    "# way to plot psychophysics with the csv only\n",
    "# Lecture du fichier CSV\n",
    "csv_file_path = \"U:/BASIL/BASIL_FAIR/BASILapp/Results/TGTD/NAJ/Ribeye project/Ctrl vs RIb ll inj bilat (deaf)/M3502/20250909/123716_Data/Trial_log.csv\"\n",
    "A = pd.read_csv(csv_file_path, sep=';')"
   ]
  },
  {
   "cell_type": "code",
   "execution_count": null,
   "id": "d347c3e0",
   "metadata": {},
   "outputs": [],
   "source": [
    "trial_start_id = np.where(trialid == 9)[0]\n",
    "sound_start_id = np.where(trialid == 99)[0]\n",
    "\n",
    "# Create Correct_out with the appropriate length\n",
    "Correct_out = np.zeros(len(sound_start_id), dtype=int)\n",
    "\n",
    "for k in range(len(sound_start_id)):\n",
    "    # For the last trial, use the end of the array\n",
    "    if k == len(sound_start_id) - 1:\n",
    "        # Last trial - use until the end of the array\n",
    "        respwin = trialid[trial_start_id[k]+1:]\n",
    "        rewardid = rewarddata[trial_start_id[k]+1:]\n",
    "    else:\n",
    "        # Regular case\n",
    "        respwin = trialid[trial_start_id[k]+1 : trial_start_id[k+1]-1]\n",
    "        rewardid = rewarddata[trial_start_id[k]+1 : trial_start_id[k+1]-1]\n",
    "    \n",
    "    # Supprimer les valeurs 99\n",
    "    respwin = respwin[respwin != 99]\n",
    "    \n",
    "    # Trouver les valeurs uniques\n",
    "    outcometrial = np.unique(respwin)\n",
    "    \n",
    "    try:\n",
    "        rewardout = rewardid[rewardid > 0]\n",
    "    except:\n",
    "        rewardout = np.array([0])\n",
    "    \n",
    "    # Supprimer les valeurs 4\n",
    "    rewardout = rewardout[rewardout != 4]\n",
    "    \n",
    "    if len(rewardout) == 0:\n",
    "        rewardout = np.array([0])\n",
    "    \n",
    "    # Déterminer si le trial est correct\n",
    "    if (3 in rewardout) or (1 in rewardout):\n",
    "        Correct_out[k] = 1\n",
    "    elif (0 in rewardout) and (2 in outcometrial):\n",
    "        Correct_out[k] = 1\n",
    "    else:\n",
    "        Correct_out[k] = 0"
   ]
  },
  {
   "cell_type": "code",
   "execution_count": null,
   "id": "375d5f0d",
   "metadata": {},
   "outputs": [],
   "source": [
    "csv_file_path = \"U:/BASIL/BASIL_FAIR/BASILapp/Results/TGTD/NAJ/Ribeye project/Ctrl vs RIb ll inj bilat (deaf)/M3502/20250909/123716_Data/Trial_log.csv\"\n",
    "A = pd.read_csv(csv_file_path, sep=';')\n",
    "\n",
    "# Afficher les informations sur le DataFrame pour voir les colonnes disponibles\n",
    "print(\"Colonnes disponibles:\", A.columns.tolist())\n",
    "print(\"Shape du DataFrame:\", A.shape)\n",
    "print(\"\\nPremières lignes du fichier:\")\n",
    "print(A.head())\n",
    "\n",
    "for i, col_name in enumerate(A.columns):\n",
    "    print(f\"Colonne {i}: {col_name}\")\n",
    "\n",
    "AllTrials = A.iloc[:, 1].values.astype(float)\n",
    "print(f\"\\nColonne sélectionnée: {A.columns[1]}\")\n",
    "print(f\"Valeurs uniques dans AllTrials: {np.unique(AllTrials[~np.isnan(AllTrials)])}\")"
   ]
  }
 ],
 "metadata": {
  "language_info": {
   "name": "python"
  }
 },
 "nbformat": 4,
 "nbformat_minor": 5
}
