{
 "cells": [
  {
   "cell_type": "markdown",
   "id": "54575ef6",
   "metadata": {},
   "source": [
    "# Pre requisites\n",
    "\n",
    "If you were running this on your own machine you would have to install jupyter, neuroconv package and the data.\n",
    "\n",
    "However, if you are using either binder or github codespaces for the workshop these steps have already been done for you so you don't need to install anything.\n",
    "\n",
    "\n",
    "1- Download, install and open GUIDE : https://nwb-guide.readthedocs.io/en/stable/\n",
    "\n",
    "2- Get datasets on your local machine : \n",
    "\n",
    "Download 2 NWB datasets on Pasteur Drive (Total 39Go)\n",
    "\n",
    "https://drive.pasteur.fr/s/Jp4ibFHEQ8rz2Km\n",
    "\n",
    "https://drive.pasteur.fr/s/5kSEqaE6mqPtSnH \n",
    "\n",
    "with the following password: ILoveNWB@2025\n",
    "\n",
    "\n",
    "# NWB workshop\n",
    "In this section, you will load NWB datasets with the no-code tool \"GUIDE\".\n",
    "\n",
    "## Dataset 1 : Electrophysiological recordings + Sound stimuli\n",
    "\n",
    "Here, we explore a dataset including : \n",
    "\n",
    "- Preprocessing / Spike sorting of Neuropixel recordings acquired with OpenEphys. Preprocessing is done with Kilosort and data curation is performed with Phy tool.  \n",
    "\n",
    "- Behavior/stimuli data acquired with BASIL.\n",
    "\n",
    "- EVENT TTL from BASIL to ephys for offline data synchronization.\n",
    "\n",
    "1- In the GUIDE app, click Explore, load and find in your local repository the file sub-716_ses-27_res.nwb\n",
    "\n",
    "716 is the subject (mouse) ID.\n",
    "27 is the session (acquisition) ID.\n",
    "\n",
    "2- Expand the Neurodata Tab\n",
    "\n",
    "3- Expand the « acquisition » Tab. \n",
    "\n",
    "3- Check the « Lick » and click the blue button on top. Zoom to 20s of experiments. \n",
    "\n",
    "4- Close and now check 3 of these items : Lick, Reward, TTLTrignpx. Click the blue button on top. Zoom on 50s. \n",
    "Explanation on how to interpret these data are documented in the \"description\" part. \n",
    "\n",
    "5- Close and click « open in pynwb ». With few line of codes, you can open and visualize the data in a notebook as follow: "
   ]
  },
  {
   "cell_type": "code",
   "execution_count": null,
   "id": "392885e8",
   "metadata": {},
   "outputs": [],
   "source": [
    "folder_path = \"C:/Users/cdussaux/Documents/Python/NWB_conversion/data/sub-716_ses-27_res.nwb\"\n",
    "io = NWBHDF5IO(folder_path, mode='r')\n",
    "nwbfile = io.read()\n",
    "nwbfile"
   ]
  },
  {
   "cell_type": "code",
   "execution_count": null,
   "id": "f347cef6",
   "metadata": {},
   "outputs": [],
   "source": []
  }
 ],
 "metadata": {
  "kernelspec": {
   "display_name": "neuroconv",
   "language": "python",
   "name": "python3"
  },
  "language_info": {
   "name": "python",
   "version": "3.12.7"
  }
 },
 "nbformat": 4,
 "nbformat_minor": 5
}
